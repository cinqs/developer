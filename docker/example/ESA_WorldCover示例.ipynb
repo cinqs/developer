{
 "cells": [
  {
   "cell_type": "markdown",
   "id": "5071134a-ef9c-46a5-bf88-d4832fafd951",
   "metadata": {},
   "source": [
    "# ESA WorldCover 10m v100 简介与Notebook示例\n",
    "欧洲航天局 (ESA) WorldCover 10m土地覆盖数据集是基于Sentinel-1和 Sentinel-2 数据制作的2020年覆盖全球的土地覆盖分类数据产品，共有11个土地覆盖类型分类，分别是林地、灌木地、草地、耕地、人造地表、裸地/稀疏植被、冰川/积雪、水体、湿地、红树林、苔原。\n",
    "\n",
    "## 数据集检索"
   ]
  },
  {
   "cell_type": "code",
   "execution_count": 2,
   "id": "12518c91-f786-400b-839d-9948995aca43",
   "metadata": {},
   "outputs": [
    {
     "name": "stdout",
     "output_type": "stream",
     "text": [
      "请将以下地址粘贴到Web浏览器中，访问授权页面，并将个人token粘贴到输入框中\n",
      "\t https://engine-aiearth.aliyun.com/#/utility/auth-token\n",
      "个人token: d93f8dc39eba03d7683796b9bb08fe8b\n",
      "计算资源初始化中，请等待...\n",
      "计算资源初始化完成.\n"
     ]
    },
    {
     "data": {
      "application/vnd.jupyter.widget-view+json": {
       "model_id": "adec9633bed144a08923203039e75cbe",
       "version_major": 2,
       "version_minor": 0
      },
      "text/plain": [
       "Map(center=[30.0, 120.0], controls=(ZoomControl(options=['position', 'zoom_in_text', 'zoom_in_title', 'zoom_ou…"
      ]
     },
     "execution_count": 2,
     "metadata": {},
     "output_type": "execute_result"
    }
   ],
   "source": [
    "import aie\n",
    "aie.Authenticate()\n",
    "aie.Initialize()\n",
    "\n",
    "# 指定需要检索的区域\n",
    "feature_collection = aie.FeatureCollection('China_Province') \\\n",
    "                        .filter(aie.Filter.eq('province', '浙江省'))\n",
    "\n",
    "geometry = feature_collection.geometry()\n",
    "\n",
    "\n",
    "#指定检索数据集，可设置检索的时间范围\n",
    "dataset = aie.ImageCollection('ESA_WORLD_COVER_V100') \\\n",
    "             .filterBounds(geometry) \\\n",
    "             .filterDate(\"2020-01-01\", \"2022-01-31\") \\\n",
    "             .limit(100)\n",
    "\n",
    "imgs = dataset.select(['Map']);\n",
    "\n",
    "map = aie.Map(\n",
    "    center=dataset.getCenter(),\n",
    "    height=800,\n",
    "    zoom=6\n",
    ")\n",
    "\n",
    "vis_params = {\n",
    "    'bands': 'Map',\n",
    "    'min': 10.0,\n",
    "    'max': 100.0,\n",
    "    'palette': [\n",
    "        '#006400','#ffbb22','#ffff4c','#f096ff',\n",
    "        '#fa0000','#b4b4b4','#f0f0f0','#0064c8',\n",
    "        '#0096a0','#00cf75','#fae6a0'\n",
    "    ]\n",
    "}\n",
    "\n",
    "map.addLayer(\n",
    "    imgs,\n",
    "    vis_params,\n",
    "    'Map',\n",
    "    bounds=imgs.getBounds()\n",
    ")\n",
    "map"
   ]
  },
  {
   "cell_type": "markdown",
   "id": "e75dd8f1-20db-4f34-8b7e-0cced208ae4d",
   "metadata": {},
   "source": [
    "## 单景影像检索"
   ]
  },
  {
   "cell_type": "code",
   "execution_count": 3,
   "id": "ba2752bf-063e-40ce-9a86-17d6e66442fa",
   "metadata": {},
   "outputs": [
    {
     "name": "stdout",
     "output_type": "stream",
     "text": [
      "请将以下地址粘贴到Web浏览器中，访问授权页面，并将个人token粘贴到输入框中\n",
      "\t https://engine-aiearth.aliyun.com/#/utility/auth-token\n",
      "个人token: d93f8dc39eba03d7683796b9bb08fe8b\n",
      "计算资源初始化中，请等待...\n",
      "计算资源初始化完成.\n"
     ]
    },
    {
     "data": {
      "application/vnd.jupyter.widget-view+json": {
       "model_id": "893ee1972492450d8c357f166194d213",
       "version_major": 2,
       "version_minor": 0
      },
      "text/plain": [
       "Map(center=[31.5, 121.5], controls=(ZoomControl(options=['position', 'zoom_in_text', 'zoom_in_title', 'zoom_ou…"
      ]
     },
     "execution_count": 3,
     "metadata": {},
     "output_type": "execute_result"
    }
   ],
   "source": [
    "import aie\n",
    "aie.Authenticate()\n",
    "aie.Initialize()\n",
    "\n",
    "img = aie.Image('ESA_WorldCover_10m_2020_v100_N30E120').select(['Map'])\n",
    "\n",
    "map = aie.Map(\n",
    "    center=img.getCenter(),\n",
    "    height=800,\n",
    "    zoom=6\n",
    ")\n",
    "\n",
    "vis_params = {\n",
    "    'bands': 'Map',\n",
    "    'min': 10.0,\n",
    "    'max': 100.0,\n",
    "    'palette': [\n",
    "        '#006400','#ffbb22','#ffff4c','#f096ff',\n",
    "        '#fa0000','#b4b4b4','#f0f0f0','#0064c8',\n",
    "        '#0096a0','#00cf75','#fae6a0'\n",
    "    ]\n",
    "}\n",
    "\n",
    "map.addLayer(\n",
    "    img,\n",
    "    vis_params,\n",
    "    'Map',\n",
    "    bounds=img.getBounds()\n",
    ")\n",
    "map"
   ]
  }
 ],
 "metadata": {
  "kernelspec": {
   "display_name": "Python 3 (ipykernel)",
   "language": "python",
   "name": "python3"
  },
  "language_info": {
   "codemirror_mode": {
    "name": "ipython",
    "version": 3
   },
   "file_extension": ".py",
   "mimetype": "text/x-python",
   "name": "python",
   "nbconvert_exporter": "python",
   "pygments_lexer": "ipython3",
   "version": "3.9.1"
  }
 },
 "nbformat": 4,
 "nbformat_minor": 5
}
